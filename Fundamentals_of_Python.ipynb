{
  "nbformat": 4,
  "nbformat_minor": 0,
  "metadata": {
    "colab": {
      "name": "Fundamentals of Python.ipynb",
      "provenance": [],
      "collapsed_sections": [],
      "authorship_tag": "ABX9TyNLTM7NwQgtT+peshbRxXLj",
      "include_colab_link": true
    },
    "kernelspec": {
      "name": "python3",
      "display_name": "Python 3"
    },
    "language_info": {
      "name": "python"
    }
  },
  "cells": [
    {
      "cell_type": "markdown",
      "metadata": {
        "id": "view-in-github",
        "colab_type": "text"
      },
      "source": [
        "<a href=\"https://colab.research.google.com/github/joannamickamedina/OOP-58001/blob/main/Fundamentals_of_Python.ipynb\" target=\"_parent\"><img src=\"https://colab.research.google.com/assets/colab-badge.svg\" alt=\"Open In Colab\"/></a>"
      ]
    },
    {
      "cell_type": "markdown",
      "source": [
        "#Fundamentals of Python"
      ],
      "metadata": {
        "id": "ONLF-WKxj8Xu"
      }
    },
    {
      "cell_type": "markdown",
      "source": [
        "Python Variables"
      ],
      "metadata": {
        "id": "gTh2Ujr1kYKF"
      }
    },
    {
      "cell_type": "code",
      "source": [
        "x = float(1)\n",
        "a,b,c=\"Sally\",\"John\",\"Ana\"\n",
        "a, b, c = 0,-1, 2\n",
        "\n",
        "print('This is a sample')\n",
        "print(a)\n",
        "print(c)"
      ],
      "metadata": {
        "colab": {
          "base_uri": "https://localhost:8080/"
        },
        "id": "mq1mJAbgkAaf",
        "outputId": "a472a810-6f85-451f-c8f4-4d3c82960c4d"
      },
      "execution_count": 13,
      "outputs": [
        {
          "output_type": "stream",
          "name": "stdout",
          "text": [
            "This is a sample\n",
            "0\n",
            "2\n"
          ]
        }
      ]
    },
    {
      "cell_type": "markdown",
      "source": [
        "Casting"
      ],
      "metadata": {
        "id": "2o5r-Ql3mG2c"
      }
    },
    {
      "cell_type": "code",
      "source": [
        "print(x)"
      ],
      "metadata": {
        "colab": {
          "base_uri": "https://localhost:8080/"
        },
        "id": "HM12IPiJmSKI",
        "outputId": "6b11a364-2838-4382-e19b-f0f44ac84c9c"
      },
      "execution_count": 14,
      "outputs": [
        {
          "output_type": "stream",
          "name": "stdout",
          "text": [
            "1.0\n"
          ]
        }
      ]
    },
    {
      "cell_type": "markdown",
      "source": [
        "Type() Function"
      ],
      "metadata": {
        "id": "5sYrQ52vmp9U"
      }
    },
    {
      "cell_type": "code",
      "source": [
        "y =\"Johnny\"\n",
        "\n",
        "print(type(y))\n",
        "print(type(x))"
      ],
      "metadata": {
        "colab": {
          "base_uri": "https://localhost:8080/"
        },
        "id": "aFbdprapmujE",
        "outputId": "71a242e0-5f29-423a-8a10-a8a427ad5d7b"
      },
      "execution_count": 19,
      "outputs": [
        {
          "output_type": "stream",
          "name": "stdout",
          "text": [
            "<class 'str'>\n",
            "<class 'float'>\n"
          ]
        }
      ]
    },
    {
      "cell_type": "markdown",
      "source": [
        "Double quotes and Single quote"
      ],
      "metadata": {
        "id": "oOfBzndvnmmU"
      }
    },
    {
      "cell_type": "code",
      "source": [
        "#h = \"Maria\"\n",
        "h = 'Maria'\n",
        "v=1\n",
        "\n",
        "print(h)"
      ],
      "metadata": {
        "colab": {
          "base_uri": "https://localhost:8080/"
        },
        "id": "_Mhyyw9pnsRz",
        "outputId": "e26142fa-8aa6-42a1-c12c-209ea009deda"
      },
      "execution_count": 51,
      "outputs": [
        {
          "output_type": "stream",
          "name": "stdout",
          "text": [
            "Maria\n"
          ]
        }
      ]
    },
    {
      "cell_type": "markdown",
      "source": [
        "Multiple Variables"
      ],
      "metadata": {
        "id": "rTz18M7IpBCu"
      }
    },
    {
      "cell_type": "code",
      "source": [
        "x ,y,z = \"one\",\"two\",'three'\n",
        "\n",
        "print(x)\n",
        "print(y)\n",
        "print(z)\n",
        "print(x,y,z)\n"
      ],
      "metadata": {
        "colab": {
          "base_uri": "https://localhost:8080/"
        },
        "id": "ovbsryG1pDOb",
        "outputId": "73ebbd5d-4416-41b5-80d6-cea9c4758ff1"
      },
      "execution_count": 25,
      "outputs": [
        {
          "output_type": "stream",
          "name": "stdout",
          "text": [
            "one\n",
            "two\n",
            "three\n",
            "one two three\n"
          ]
        }
      ]
    },
    {
      "cell_type": "markdown",
      "source": [
        "One Value to Multiple Variables"
      ],
      "metadata": {
        "id": "cf-7wwEkqmP0"
      }
    },
    {
      "cell_type": "code",
      "source": [
        "x = y = z =\"Stella\"\n",
        "print(x,y,z)\n",
        "print(x)\n",
        "print(y)\n",
        "print(z)"
      ],
      "metadata": {
        "colab": {
          "base_uri": "https://localhost:8080/"
        },
        "id": "CqSwfOlWqo8F",
        "outputId": "b19a063f-ddac-4606-f42a-ceee6814eed4"
      },
      "execution_count": 26,
      "outputs": [
        {
          "output_type": "stream",
          "name": "stdout",
          "text": [
            "Stella Stella Stella\n",
            "Stella\n",
            "Stella\n",
            "Stella\n"
          ]
        }
      ]
    },
    {
      "cell_type": "markdown",
      "source": [
        "Output Variables"
      ],
      "metadata": {
        "id": "i2UHpPhSrUyp"
      }
    },
    {
      "cell_type": "code",
      "source": [
        "x =\"enjoying\"\n",
        "\n",
        "print(\"Python is\" + \" \"+x)"
      ],
      "metadata": {
        "colab": {
          "base_uri": "https://localhost:8080/"
        },
        "id": "NzjA8CCzrW8N",
        "outputId": "9e6139af-baf7-4766-d0a0-1455aee9faff"
      },
      "execution_count": 29,
      "outputs": [
        {
          "output_type": "stream",
          "name": "stdout",
          "text": [
            "Python is enjoying\n"
          ]
        }
      ]
    },
    {
      "cell_type": "code",
      "source": [
        "x =\"enjoying\"\n",
        "y ='Python is'\n",
        "\n",
        "print(y+\" \"+x)"
      ],
      "metadata": {
        "colab": {
          "base_uri": "https://localhost:8080/"
        },
        "id": "TXpTtLA3rmIq",
        "outputId": "f9482fd4-763f-4323-f6d0-4e463170f15c"
      },
      "execution_count": 31,
      "outputs": [
        {
          "output_type": "stream",
          "name": "stdout",
          "text": [
            "Python is enjoying\n"
          ]
        }
      ]
    },
    {
      "cell_type": "markdown",
      "source": [
        "Arithmetic Operations"
      ],
      "metadata": {
        "id": "VVIKbsthtTj6"
      }
    },
    {
      "cell_type": "code",
      "source": [
        "f = 1\n",
        "g = 2\n",
        "i = 6\n",
        "\n",
        "print(f+g)\n",
        "print(f-g)\n",
        "print(f*g)\n",
        "print(int(i/g))\n",
        "print(3/g)\n",
        "print(3%g)\n",
        "print(3//g)\n",
        "print(3**2)\n",
        "\n",
        "print(2^6)\n",
        "print(2**6)\n",
        "print(2|6)"
      ],
      "metadata": {
        "colab": {
          "base_uri": "https://localhost:8080/"
        },
        "id": "PhgN5m0VtWpI",
        "outputId": "9458bd58-41ad-454a-913e-294384e0df79"
      },
      "execution_count": 41,
      "outputs": [
        {
          "output_type": "stream",
          "name": "stdout",
          "text": [
            "3\n",
            "-1\n",
            "2\n",
            "3\n",
            "1.5\n",
            "1\n",
            "1\n",
            "9\n",
            "4\n",
            "64\n",
            "6\n"
          ]
        }
      ]
    },
    {
      "cell_type": "markdown",
      "source": [
        "Boolean Operators"
      ],
      "metadata": {
        "id": "ujz5lve7xUud"
      }
    },
    {
      "cell_type": "code",
      "source": [
        "k = 2\n",
        "l = 1\n",
        "#k+=3 #Same as k= k+3\n",
        "\n",
        "#print(k)\n",
        "#print(k+=2)\n",
        "\n",
        "print(k>>2) #shift right twice\n",
        "print(k<<2) #shift left twice"
      ],
      "metadata": {
        "colab": {
          "base_uri": "https://localhost:8080/"
        },
        "id": "o5Et0J6TxXir",
        "outputId": "3f467e5e-daa6-4cec-c19f-9f615f6212f9"
      },
      "execution_count": 48,
      "outputs": [
        {
          "output_type": "stream",
          "name": "stdout",
          "text": [
            "0\n",
            "8\n"
          ]
        }
      ]
    },
    {
      "cell_type": "markdown",
      "source": [
        "Assignment Operators"
      ],
      "metadata": {
        "id": "SsutC5Fgzzpf"
      }
    },
    {
      "cell_type": "code",
      "source": [
        "s = 2\n",
        "\n",
        "s*=5 #Same as s=s*5\n",
        "print(s)"
      ],
      "metadata": {
        "colab": {
          "base_uri": "https://localhost:8080/"
        },
        "id": "_Z34tjIDz3LC",
        "outputId": "ce8d08a5-842d-465c-d524-fc3dba35e757"
      },
      "execution_count": 49,
      "outputs": [
        {
          "output_type": "stream",
          "name": "stdout",
          "text": [
            "10\n"
          ]
        }
      ]
    },
    {
      "cell_type": "markdown",
      "source": [
        "Relational Operators"
      ],
      "metadata": {
        "id": "U8232Hq20QSX"
      }
    },
    {
      "cell_type": "code",
      "source": [
        "print(v>s) #v=1, s=2\n",
        "\n",
        "print(v==s)"
      ],
      "metadata": {
        "colab": {
          "base_uri": "https://localhost:8080/"
        },
        "id": "DF1kXZ-t0SfX",
        "outputId": "a486723d-cb8d-434a-e8f8-8092f6c78fbd"
      },
      "execution_count": 53,
      "outputs": [
        {
          "output_type": "stream",
          "name": "stdout",
          "text": [
            "False\n",
            "False\n"
          ]
        }
      ]
    },
    {
      "cell_type": "markdown",
      "source": [
        "Logical Operators"
      ],
      "metadata": {
        "id": "uAo29MPy1BVE"
      }
    },
    {
      "cell_type": "code",
      "source": [
        "print(v<s and s==s)\n",
        "print(v<s or s==v)\n",
        "print(not(v<s or s==v))"
      ],
      "metadata": {
        "colab": {
          "base_uri": "https://localhost:8080/"
        },
        "id": "nyy-DGww1EV7",
        "outputId": "adc14193-2e81-4482-f206-fb72fd40e74b"
      },
      "execution_count": 58,
      "outputs": [
        {
          "output_type": "stream",
          "name": "stdout",
          "text": [
            "True\n",
            "True\n",
            "False\n"
          ]
        }
      ]
    },
    {
      "cell_type": "markdown",
      "source": [
        "Identity Operators"
      ],
      "metadata": {
        "id": "5lNREGlj2AsP"
      }
    },
    {
      "cell_type": "code",
      "source": [
        "print(v is s)\n",
        "print(v is not s)"
      ],
      "metadata": {
        "colab": {
          "base_uri": "https://localhost:8080/"
        },
        "id": "_PvQ6DMc2DFK",
        "outputId": "ee647187-0fa6-407e-9677-92bfac7bf24b"
      },
      "execution_count": 61,
      "outputs": [
        {
          "output_type": "stream",
          "name": "stdout",
          "text": [
            "False\n",
            "True\n"
          ]
        }
      ]
    }
  ]
}