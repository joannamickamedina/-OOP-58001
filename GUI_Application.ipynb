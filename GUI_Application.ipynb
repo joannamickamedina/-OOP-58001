{
  "nbformat": 4,
  "nbformat_minor": 0,
  "metadata": {
    "colab": {
      "name": "GUI Application.ipynb",
      "provenance": [],
      "authorship_tag": "ABX9TyOwHxksZSmuuiPsjRSTn0sy",
      "include_colab_link": true
    },
    "kernelspec": {
      "name": "python3",
      "display_name": "Python 3"
    },
    "language_info": {
      "name": "python"
    }
  },
  "cells": [
    {
      "cell_type": "markdown",
      "metadata": {
        "id": "view-in-github",
        "colab_type": "text"
      },
      "source": [
        "<a href=\"https://colab.research.google.com/github/joannamickamedina/OOP-58001/blob/main/GUI_Application.ipynb\" target=\"_parent\"><img src=\"https://colab.research.google.com/assets/colab-badge.svg\" alt=\"Open In Colab\"/></a>"
      ]
    },
    {
      "cell_type": "markdown",
      "source": [
        "Create a Python Program that displays the grades of the students"
      ],
      "metadata": {
        "id": "QPXit_3M_fpi"
      }
    },
    {
      "cell_type": "code",
      "execution_count": 6,
      "metadata": {
        "colab": {
          "base_uri": "https://localhost:8080/"
        },
        "id": "7GQ-KPN8-KR1",
        "outputId": "2c22e5d7-6e17-48a5-ee87-031ef7022523"
      },
      "outputs": [
        {
          "output_type": "stream",
          "name": "stdout",
          "text": [
            "Student_Name: Joanna Micka E. Medina\n",
            "Semestral grade of the student: 90.0\n"
          ]
        }
      ],
      "source": [
        "#@title Students' Grade in Object-oriented Programming\n",
        "Student_Name = \"Joanna Micka E. Medina\"#@param {type:\"string\"}\n",
        "prelim = 90 #@param {type:\"number\"}\n",
        "midterm = 90 #@param {type:\"number\"}\n",
        "final = 90 #@param {type:\"number\"}\n",
        "semestral = (prelim*0.30+midterm*0.30+final*0.40)\n",
        "\n",
        "print(\"Student_Name: \"+Student_Name)\n",
        "print(\"Semestral grade of the student: \"+str(semestral))"
      ]
    },
    {
      "cell_type": "code",
      "source": [
        "#@title Gender\n",
        "\n",
        "Male = False #@param {type:\"boolean\"}\n",
        "Female = True #@param {type:\"boolean\"}\n",
        "Birthdate = \"2002-08-02\" #@param {type:\"date\"}\n",
        "\n",
        "print(\"My birthdate is: \"+Birthdate)\n"
      ],
      "metadata": {
        "colab": {
          "base_uri": "https://localhost:8080/"
        },
        "id": "AAsoX21tDxvt",
        "outputId": "d336fda2-a2ed-489e-9324-417146f8823a"
      },
      "execution_count": 9,
      "outputs": [
        {
          "output_type": "stream",
          "name": "stdout",
          "text": [
            "My birthdate is: 2002-08-02\n"
          ]
        }
      ]
    },
    {
      "cell_type": "code",
      "source": [
        "#@title Gender\n",
        "\n",
        "Gender = \"Female\" #@param[\"Male\",\"Female\"]\n",
        "\n",
        "print(\"My gender is: \"+Gender)"
      ],
      "metadata": {
        "colab": {
          "base_uri": "https://localhost:8080/"
        },
        "id": "WCrJzeOBFLWG",
        "outputId": "9d7fcf86-fde9-405c-e257-6dd2d0f68a01"
      },
      "execution_count": 12,
      "outputs": [
        {
          "output_type": "stream",
          "name": "stdout",
          "text": [
            "My gender is: Female\n"
          ]
        }
      ]
    }
  ]
}