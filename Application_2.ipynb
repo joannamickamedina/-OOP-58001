{
  "nbformat": 4,
  "nbformat_minor": 0,
  "metadata": {
    "colab": {
      "name": "Application 2.ipynb",
      "provenance": [],
      "authorship_tag": "ABX9TyOeiOkUSeyFF0+Rm0SUFTq+",
      "include_colab_link": true
    },
    "kernelspec": {
      "name": "python3",
      "display_name": "Python 3"
    },
    "language_info": {
      "name": "python"
    }
  },
  "cells": [
    {
      "cell_type": "markdown",
      "metadata": {
        "id": "view-in-github",
        "colab_type": "text"
      },
      "source": [
        "<a href=\"https://colab.research.google.com/github/joannamickamedina/OOP-58001/blob/main/Application_2.ipynb\" target=\"_parent\"><img src=\"https://colab.research.google.com/assets/colab-badge.svg\" alt=\"Open In Colab\"/></a>"
      ]
    },
    {
      "cell_type": "markdown",
      "source": [
        "##Application 2 - Write a python program to display a class name OOP_58001 with your student no. and fullname (Surname,First Name) as attributes"
      ],
      "metadata": {
        "id": "YM6M8akSptpd"
      }
    },
    {
      "cell_type": "code",
      "execution_count": null,
      "metadata": {
        "colab": {
          "base_uri": "https://localhost:8080/"
        },
        "id": "9MDD8LD5pnyb",
        "outputId": "b81a1a36-a980-4849-9821-6fc86071fc99"
      },
      "outputs": [
        {
          "output_type": "stream",
          "name": "stdout",
          "text": [
            "My student no. and fullname is ('202110306', 'Medina, Joanna Micka E.')\n"
          ]
        }
      ],
      "source": [
        "class OOP_58001():         #create a class named OOP_58001\n",
        "  def __init__(self,student_no,fullname):\n",
        "    self.student_no=student_no             #represents the instance of class named OOP_58001\n",
        "    self.fullname=fullname\n",
        "\n",
        "  def description(self):\n",
        "   return self.student_no,self.fullname\n",
        "\n",
        "  def display(self):\n",
        "    print(\"My student no. and fullname is\",self.description())\n",
        "\n",
        "obj1 = OOP_58001(\"202110306\",\"Medina, Joanna Micka E.\")      #to create an object with its attribute values\n",
        "obj1.display()"
      ]
    }
  ]
}