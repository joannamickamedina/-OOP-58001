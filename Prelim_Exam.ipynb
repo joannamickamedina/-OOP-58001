{
  "nbformat": 4,
  "nbformat_minor": 0,
  "metadata": {
    "colab": {
      "name": "Prelim Exam.ipynb",
      "provenance": [],
      "include_colab_link": true
    },
    "kernelspec": {
      "name": "python3",
      "display_name": "Python 3"
    },
    "language_info": {
      "name": "python"
    }
  },
  "cells": [
    {
      "cell_type": "markdown",
      "metadata": {
        "id": "view-in-github",
        "colab_type": "text"
      },
      "source": [
        "<a href=\"https://colab.research.google.com/github/joannamickamedina/OOP-58001/blob/main/Prelim_Exam.ipynb\" target=\"_parent\"><img src=\"https://colab.research.google.com/assets/colab-badge.svg\" alt=\"Open In Colab\"/></a>"
      ]
    },
    {
      "cell_type": "code",
      "execution_count": 1,
      "metadata": {
        "colab": {
          "base_uri": "https://localhost:8080/"
        },
        "id": "i50OGWXDPrHk",
        "outputId": "9fd5f60f-3e21-45b9-c283-bd554f693569"
      },
      "outputs": [
        {
          "output_type": "stream",
          "name": "stdout",
          "text": [
            "My name, student no., age, school, and course is ('Medina, Joanna Micka E.', '202110306', '19 years old', 'Adamson University', 'Bachelor of Science in Computer Engineering')\n"
          ]
        }
      ],
      "source": [
        "class Student():         #create a class named Student\n",
        "  def __init__(self,name,student_no,age,school,course):\n",
        "    self.name=name\n",
        "    self.student_no=student_no\n",
        "    self.age=age\n",
        "    self.school=school\n",
        "    self.course=course             #represents the instance of class named Student\n",
        "    \n",
        "\n",
        "  def description(self):\n",
        "   return self.name,self.student_no,self.age,self.school,self.course\n",
        "\n",
        "  def display(self):\n",
        "    print(\"My name, student no., age, school, and course is\",self.description())\n",
        "\n",
        "myself = Student(\"Medina, Joanna Micka E.\",\"202110306\",\"19 years old\",\"Adamson University\",\"Bachelor of Science in Computer Engineering\")      #to create an object with its attribute values\n",
        "myself.display()"
      ]
    }
  ]
}