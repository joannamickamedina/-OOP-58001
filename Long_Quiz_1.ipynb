{
  "nbformat": 4,
  "nbformat_minor": 0,
  "metadata": {
    "colab": {
      "name": "Long Quiz 1.ipynb",
      "provenance": [],
      "authorship_tag": "ABX9TyP5+1nLp6NSMyFRzfn2L3LM",
      "include_colab_link": true
    },
    "kernelspec": {
      "name": "python3",
      "display_name": "Python 3"
    },
    "language_info": {
      "name": "python"
    }
  },
  "cells": [
    {
      "cell_type": "markdown",
      "metadata": {
        "id": "view-in-github",
        "colab_type": "text"
      },
      "source": [
        "<a href=\"https://colab.research.google.com/github/joannamickamedina/OOP-58001/blob/main/Long_Quiz_1.ipynb\" target=\"_parent\"><img src=\"https://colab.research.google.com/assets/colab-badge.svg\" alt=\"Open In Colab\"/></a>"
      ]
    },
    {
      "cell_type": "markdown",
      "source": [
        "##Write a Python program that asks the user to enter the radius of a circle and solve its area and perimeter."
      ],
      "metadata": {
        "id": "6PPUZOEG0V24"
      }
    },
    {
      "cell_type": "code",
      "source": [
        "class Circle():          #create a class named Circle\n",
        "  def __init__(self,radius,PI):\n",
        "    self.radius=float(input('Please enter the radius of a circle:'))\n",
        "    self.PI=3.14                            #represent the instance of class named Circle\n",
        "\n",
        "  def Area(self):\n",
        "    return self.PI*self.radius*self.radius\n",
        "\n",
        "  def Perimeter(self):\n",
        "    return self.PI*2*self.radius\n",
        "\n",
        "  def display(self):\n",
        "    print(\"The area of a circle is\",self.Area())\n",
        "    print(\"The perimeter of a circle is\",self.Perimeter())\n",
        "\n",
        "  sphere= Circle(input,3.14)\n",
        "  sphere.display()"
      ],
      "metadata": {
        "colab": {
          "base_uri": "https://localhost:8080/"
        },
        "id": "xZO0h7Kf0amw",
        "outputId": "ea74f336-84e3-45b4-9c5a-6b71c53ca01f"
      },
      "execution_count": 38,
      "outputs": [
        {
          "output_type": "stream",
          "name": "stdout",
          "text": [
            "Please enter the radius of a circle:10\n",
            "The area of a circle is 314.0\n",
            "The perimeter of a circle is 62.800000000000004\n"
          ]
        }
      ]
    }
  ]
}